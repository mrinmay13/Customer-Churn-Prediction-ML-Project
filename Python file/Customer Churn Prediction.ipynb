{
 "cells": [
  {
   "cell_type": "code",
   "execution_count": 4,
   "id": "35c1425d-54e0-4575-bb4e-92271ac2eb2d",
   "metadata": {},
   "outputs": [
    {
     "name": "stdout",
     "output_type": "stream",
     "text": [
      "✅ Preprocessing complete.\n",
      "X_train shape: (5625, 23)\n",
      "X_test shape: (1407, 23)\n",
      "y_train shape: (5625,)\n",
      "y_test shape: (1407,)\n"
     ]
    }
   ],
   "source": [
    "import pandas as pd\n",
    "from sklearn.model_selection import train_test_split\n",
    "\n",
    "# Load the Excel file\n",
    "file_path = r\"D:\\Download\\Customer_data.xlsx\"\n",
    "df = pd.read_excel(file_path)\n",
    "\n",
    "# Drop missing values in 'TotalCharges' and convert to float\n",
    "df.dropna(subset=[\"TotalCharges\"], inplace=True)\n",
    "df[\"TotalCharges\"] = df[\"TotalCharges\"].astype(float)\n",
    "\n",
    "# Convert Yes/No columns to binary (1/0)\n",
    "binary_yes_no_cols = [\n",
    "    \"Partner\", \"Dependents\", \"PhoneService\", \"PaperlessBilling\", \"Churn\"\n",
    "]\n",
    "internet_related_cols = [\n",
    "    \"OnlineSecurity\", \"OnlineBackup\", \"DeviceProtection\",\n",
    "    \"TechSupport\", \"StreamingTV\", \"StreamingMovies\", \"MultipleLines\"\n",
    "]\n",
    "\n",
    "for col in binary_yes_no_cols:\n",
    "    df[col] = df[col].map({\"Yes\": 1, \"No\": 0})\n",
    "\n",
    "for col in internet_related_cols:\n",
    "    df[col] = df[col].map({\n",
    "        \"Yes\": 1,\n",
    "        \"No\": 0,\n",
    "        \"No internet service\": 0,\n",
    "        \"No phone service\": 0\n",
    "    })\n",
    "\n",
    "# Convert gender to binary\n",
    "df[\"gender\"] = df[\"gender\"].map({\"Female\": 1, \"Male\": 0})\n",
    "\n",
    "# One-hot encode multi-class categorical columns\n",
    "df = pd.get_dummies(df, columns=[\"InternetService\", \"Contract\", \"PaymentMethod\"], drop_first=True)\n",
    "\n",
    "# Drop customerID\n",
    "df.drop(\"customerID\", axis=1, inplace=True)\n",
    "\n",
    "# Split into features and target\n",
    "X = df.drop(\"Churn\", axis=1)\n",
    "y = df[\"Churn\"]\n",
    "\n",
    "# Split into training and testing sets\n",
    "X_train, X_test, y_train, y_test = train_test_split(\n",
    "    X, y, test_size=0.2, random_state=42, stratify=y\n",
    ")\n",
    "\n",
    "# Output dataset shapes\n",
    "print(\"✅ Preprocessing complete.\")\n",
    "print(\"X_train shape:\", X_train.shape)\n",
    "print(\"X_test shape:\", X_test.shape)\n",
    "print(\"y_train shape:\", y_train.shape)\n",
    "print(\"y_test shape:\", y_test.shape)\n"
   ]
  },
  {
   "cell_type": "code",
   "execution_count": 6,
   "id": "e0f48e3f-5f8c-4afa-8e3f-bc0740325dad",
   "metadata": {},
   "outputs": [],
   "source": [
    "from sklearn.preprocessing import StandardScaler\n",
    "\n",
    "scaler = StandardScaler()\n",
    "X_train_scaled = scaler.fit_transform(X_train)\n",
    "X_test_scaled = scaler.transform(X_test)\n",
    "\n",
    "logreg = LogisticRegression(max_iter=1000, random_state=42)\n",
    "logreg.fit(X_train_scaled, y_train)\n",
    "y_pred = logreg.predict(X_test_scaled)\n"
   ]
  },
  {
   "cell_type": "code",
   "execution_count": 7,
   "id": "904c3b36-7eb4-41af-aff7-3d89d077e3b5",
   "metadata": {},
   "outputs": [
    {
     "name": "stdout",
     "output_type": "stream",
     "text": [
      "✅ Evaluation Metrics:\n",
      "Accuracy  : 0.8038\n",
      "Precision : 0.6476\n",
      "Recall    : 0.5749\n",
      "F1 Score  : 0.6091\n",
      "\n",
      "Confusion Matrix:\n",
      "[[916 117]\n",
      " [159 215]]\n",
      "\n",
      "Classification Report:\n",
      "              precision    recall  f1-score   support\n",
      "\n",
      "           0       0.85      0.89      0.87      1033\n",
      "           1       0.65      0.57      0.61       374\n",
      "\n",
      "    accuracy                           0.80      1407\n",
      "   macro avg       0.75      0.73      0.74      1407\n",
      "weighted avg       0.80      0.80      0.80      1407\n",
      "\n"
     ]
    }
   ],
   "source": [
    "from sklearn.metrics import accuracy_score, precision_score, recall_score, f1_score, classification_report, confusion_matrix\n",
    "\n",
    "# Evaluate the model\n",
    "accuracy = accuracy_score(y_test, y_pred)\n",
    "precision = precision_score(y_test, y_pred)\n",
    "recall = recall_score(y_test, y_pred)\n",
    "f1 = f1_score(y_test, y_pred)\n",
    "\n",
    "print(\"✅ Evaluation Metrics:\")\n",
    "print(f\"Accuracy  : {accuracy:.4f}\")\n",
    "print(f\"Precision : {precision:.4f}\")\n",
    "print(f\"Recall    : {recall:.4f}\")\n",
    "print(f\"F1 Score  : {f1:.4f}\\n\")\n",
    "\n",
    "print(\"Confusion Matrix:\")\n",
    "print(confusion_matrix(y_test, y_pred))\n",
    "\n",
    "print(\"\\nClassification Report:\")\n",
    "print(classification_report(y_test, y_pred))\n"
   ]
  },
  {
   "cell_type": "code",
   "execution_count": null,
   "id": "c9d8227f-8cc1-4255-a28d-4f1930ae0912",
   "metadata": {},
   "outputs": [],
   "source": []
  }
 ],
 "metadata": {
  "kernelspec": {
   "display_name": "Python 3 (ipykernel)",
   "language": "python",
   "name": "python3"
  },
  "language_info": {
   "codemirror_mode": {
    "name": "ipython",
    "version": 3
   },
   "file_extension": ".py",
   "mimetype": "text/x-python",
   "name": "python",
   "nbconvert_exporter": "python",
   "pygments_lexer": "ipython3",
   "version": "3.13.5"
  }
 },
 "nbformat": 4,
 "nbformat_minor": 5
}
